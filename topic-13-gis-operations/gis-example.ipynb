{
 "cells": [
  {
   "cell_type": "code",
   "execution_count": 1,
   "metadata": {},
   "outputs": [
    {
     "name": "stdout",
     "output_type": "stream",
     "text": [
      "Pinged your deployment. You successfully connected to MongoDB!\n"
     ]
    }
   ],
   "source": [
    "import csv, json\n",
    "from pymongo.mongo_client import MongoClient\n",
    "from pymongo.server_api import ServerApi\n",
    "\n",
    "with open(\"private.json\", \"r\") as f:\n",
    "    private = json.load(f)\n",
    "\n",
    "uri = private[\"MONGO_ATLAS_URI\"]\n",
    "\n",
    "client = MongoClient(uri, server_api=ServerApi(\"1\"))\n",
    "\n",
    "# Send a ping to confirm a successful connection\n",
    "try:\n",
    "    client.admin.command(\"ping\")\n",
    "    print(\"Pinged your deployment. You successfully connected to MongoDB!\")\n",
    "except Exception as e:\n",
    "    print(e)\n"
   ]
  },
  {
   "cell_type": "code",
   "execution_count": 10,
   "metadata": {},
   "outputs": [
    {
     "name": "stdout",
     "output_type": "stream",
     "text": [
      "Data has been converted to JSON and saved to ohio-100-largest-cities.json\n"
     ]
    }
   ],
   "source": [
    "csv_file_path = \"ohio-100-largest-cities.csv\"\n",
    "json_file_path = \"ohio-100-largest-cities.json\"\n",
    "\n",
    "cities_data = []\n",
    "with open(csv_file_path, \"r\") as csv_file:\n",
    "    csv_reader = csv.DictReader(csv_file)\n",
    "    for row in csv_reader:\n",
    "        mhi = row[\"Median Household Income\"]\n",
    "        mhi = float(mhi.replace(\"$\",\"\").replace(\",\",\"\"))\n",
    "        row[\"Median Household Income\"] = mhi\n",
    "        ahp = row[\"Average Home Price\"]\n",
    "        ahp = float(ahp.replace(\"$\",\"\").replace(\",\",\"\"))\n",
    "        row[\"Average Home Price\"] = ahp\n",
    "        cities_data.append(row)\n",
    "\n",
    "cities_data[0:10]\n",
    "\n",
    "with open(json_file_path, \"w\") as json_file:\n",
    "    json.dump(cities_data, json_file, indent=4)\n",
    "\n",
    "print(f\"Data has been converted to JSON and saved to {json_file_path}\")"
   ]
  },
  {
   "cell_type": "code",
   "execution_count": 13,
   "metadata": {},
   "outputs": [
    {
     "name": "stdout",
     "output_type": "stream",
     "text": [
      "GeoJSON data has been saved to ohio-100-largest-cities.geojson\n"
     ]
    }
   ],
   "source": [
    "# Paths to the input JSON and output GeoJSON files\n",
    "input_json_file = \"ohio-100-largest-cities.json\"\n",
    "output_geojson_file = \"ohio-100-largest-cities.geojson\"\n",
    "\n",
    "# Read the input JSON file\n",
    "with open(input_json_file, \"r\") as json_file:\n",
    "    cities_data = json.load(json_file)\n",
    "\n",
    "# Create a GeoJSON template\n",
    "geojson_data = {\"type\": \"FeatureCollection\", \"features\": []}\n",
    "\n",
    "# Convert the JSON data into GeoJSON features\n",
    "for city in cities_data:\n",
    "    feature = {\n",
    "        \"type\": \"Feature\",\n",
    "        \"geometry\": {\n",
    "            \"type\": \"Point\",\n",
    "            \"coordinates\": [float(city[\"Longitude\"]), float(city[\"Latitude\"])],\n",
    "        },\n",
    "        \"properties\": {\n",
    "            \"City\": city[\"City\"],\n",
    "            \"Population\": int(city[\"Population\"]),\n",
    "            \"Median Household Income\": city[\"Median Household Income\"],\n",
    "            \"Average Home Price\": city[\"Average Home Price\"],\n",
    "        },\n",
    "    }\n",
    "    geojson_data[\"features\"].append(feature)\n",
    "\n",
    "# Save the GeoJSON data to a file\n",
    "with open(output_geojson_file, \"w\") as geojson_file:\n",
    "    json.dump(geojson_data, geojson_file, indent=4)\n",
    "\n",
    "print(f\"GeoJSON data has been saved to {output_geojson_file}\")"
   ]
  },
  {
   "cell_type": "code",
   "execution_count": 14,
   "metadata": {},
   "outputs": [
    {
     "name": "stdout",
     "output_type": "stream",
     "text": [
      "GeoJSON data has been inserted into the 'cities' collection.\n"
     ]
    }
   ],
   "source": [
    "ohio_db = client.ohio_db\n",
    "ohio_db.drop_collection(\"cities\")\n",
    "cities_collection = ohio_db.cities\n",
    "\n",
    "# Path to the GeoJSON file\n",
    "geojson_file_path = \"ohio-100-largest-cities.geojson\"\n",
    "\n",
    "# Load the GeoJSON file\n",
    "with open(geojson_file_path, \"r\") as geojson_file:\n",
    "    geojson_data = json.load(geojson_file)\n",
    "\n",
    "# Insert GeoJSON features into the MongoDB collection\n",
    "for feature in geojson_data[\"features\"]:\n",
    "    cities_collection.insert_one(feature)\n",
    "\n",
    "print(\"GeoJSON data has been inserted into the 'cities' collection.\")"
   ]
  },
  {
   "cell_type": "code",
   "execution_count": 15,
   "metadata": {},
   "outputs": [
    {
     "name": "stdout",
     "output_type": "stream",
     "text": [
      "2dsphere index created on 'geometry' field.\n"
     ]
    }
   ],
   "source": [
    "cities_collection.create_index([(\"geometry\", \"2dsphere\")])\n",
    "print(\"2dsphere index created on 'geometry' field.\")"
   ]
  },
  {
   "cell_type": "code",
   "execution_count": 23,
   "metadata": {},
   "outputs": [
    {
     "name": "stdout",
     "output_type": "stream",
     "text": [
      "Cities within 50 miles of Cleveland:\n",
      "Elyria - 52656\n",
      "Lorain - 65211\n",
      "Akron - 189347\n",
      "Parma - 81146\n",
      "Cleveland - 362656\n",
      "Lakewood - 50002\n",
      "Cuyahoga Falls - 49144\n",
      "Mentor - 47450\n",
      "Metro Home Price = 161072.4569747285\n"
     ]
    }
   ],
   "source": [
    "import math\n",
    "\n",
    "# Cleveland's coordinates\n",
    "cleveland_coords = [-81.6944, 41.4993]  # [longitude, latitude]\n",
    "\n",
    "# Radius in miles\n",
    "radius_in_miles = 50\n",
    "radius_in_radians = (\n",
    "    radius_in_miles / 3963.2\n",
    ")  # Convert miles to radians (Earth's radius in miles)\n",
    "\n",
    "# Query for cities within 50 miles of Cleveland\n",
    "nearby_cities = cities_collection.find(\n",
    "    {\n",
    "        \"geometry\": {\n",
    "            \"$geoWithin\": {\"$centerSphere\": [cleveland_coords, radius_in_radians]}\n",
    "        }\n",
    "    }\n",
    ")\n",
    "\n",
    "# Print the cities\n",
    "print(\"Cities within 50 miles of Cleveland:\")\n",
    "total_population = 0\n",
    "weighted_home_price = 0\n",
    "for city in nearby_cities:\n",
    "    print(city[\"properties\"][\"City\"], \"-\", city[\"properties\"][\"Population\"])\n",
    "    total_population += city[\"properties\"][\"Population\"]\n",
    "    weighted_home_price += city[\"properties\"][\"Population\"] * city[\"properties\"][\"Average Home Price\"]\n",
    "metro_home_price = weighted_home_price / total_population\n",
    "print(f\"Metro Home Price = {metro_home_price}\")\n"
   ]
  },
  {
   "cell_type": "code",
   "execution_count": 22,
   "metadata": {},
   "outputs": [
    {
     "name": "stdout",
     "output_type": "stream",
     "text": [
      "Cities within 50 miles of Columbus:\n",
      "Newark - 49934\n",
      "Columbus - 913175\n",
      "Springfield - 58662\n",
      "Metro Home Price = 325627.3905796896\n"
     ]
    }
   ],
   "source": [
    "import math\n",
    "\n",
    "# Columbus coordinates\n",
    "columbus_coords = [-82.9988, 39.9612] \n",
    "\n",
    "# Radius in miles\n",
    "radius_in_miles = 50\n",
    "radius_in_radians = (\n",
    "    radius_in_miles / 3963.2\n",
    ")  # Convert miles to radians (Earth's radius in miles)\n",
    "\n",
    "# Query for cities within 50 miles of Columbus\n",
    "nearby_cities = cities_collection.find(\n",
    "    {\n",
    "        \"geometry\": {\n",
    "            \"$geoWithin\": {\"$centerSphere\": [columbus_coords, radius_in_radians]}\n",
    "        }\n",
    "    }\n",
    ")\n",
    "\n",
    "# Print the cities\n",
    "print(\"Cities within 50 miles of Columbus:\")\n",
    "total_population = 0\n",
    "weighted_home_price = 0\n",
    "for city in nearby_cities:\n",
    "    print(city[\"properties\"][\"City\"], \"-\", city[\"properties\"][\"Population\"])\n",
    "    total_population += city[\"properties\"][\"Population\"]\n",
    "    weighted_home_price += city[\"properties\"][\"Population\"] * city[\"properties\"][\"Average Home Price\"]\n",
    "metro_home_price = weighted_home_price / total_population\n",
    "print(f\"Metro Home Price = {metro_home_price}\")\n",
    "    "
   ]
  }
 ],
 "metadata": {
  "language_info": {
   "name": "python"
  }
 },
 "nbformat": 4,
 "nbformat_minor": 2
}
