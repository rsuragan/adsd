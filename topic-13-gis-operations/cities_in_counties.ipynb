{
 "cells": [
  {
   "cell_type": "code",
   "execution_count": 1,
   "metadata": {},
   "outputs": [],
   "source": [
    "# connect to the server\n",
    "\n",
    "from pprint import pprint\n",
    "import json\n",
    "\n",
    "from pymongo.mongo_client import MongoClient\n",
    "from pymongo.server_api import ServerApi"
   ]
  },
  {
   "cell_type": "code",
   "execution_count": 2,
   "metadata": {},
   "outputs": [
    {
     "name": "stdout",
     "output_type": "stream",
     "text": [
      "Pinged your deployment. You successfully connected to MongoDB!\n"
     ]
    }
   ],
   "source": [
    "with open(\"private.json\", \"r\") as f:\n",
    "    private = json.load(f)\n",
    "\n",
    "uri = private[\"MONGO_ATLAS_URI\"]\n",
    "\n",
    "# Create a new client and connect to the server\n",
    "client = MongoClient(uri, server_api=ServerApi(\"1\"))\n",
    "\n",
    "# Send a ping to confirm a successful connection\n",
    "try:\n",
    "    client.admin.command(\"ping\")\n",
    "    print(\"Pinged your deployment. You successfully connected to MongoDB!\")\n",
    "except Exception as e:\n",
    "    print(e)"
   ]
  },
  {
   "cell_type": "code",
   "execution_count": 3,
   "metadata": {},
   "outputs": [
    {
     "data": {
      "text/plain": [
       "'geometry_2dsphere'"
      ]
     },
     "execution_count": 3,
     "metadata": {},
     "output_type": "execute_result"
    }
   ],
   "source": [
    "ohio_db = client.ohio_db\n",
    "cities_collection = ohio_db.cities\n",
    "boundaries_collection = ohio_db.boundaries\n",
    "\n",
    "boundaries_collection.create_index([(\"geometry\", \"2dsphere\")])\n",
    "cities_collection.create_index([(\"geometry\", \"2dsphere\")])"
   ]
  },
  {
   "cell_type": "code",
   "execution_count": 4,
   "metadata": {},
   "outputs": [
    {
     "name": "stdout",
     "output_type": "stream",
     "text": [
      "Cities within Franklin County:\n",
      "Columbus\n"
     ]
    }
   ],
   "source": [
    "franklin_boundary = boundaries_collection.find_one(\n",
    "    {\"properties.name\": \"Franklin County\"}\n",
    ")\n",
    "if not franklin_boundary:\n",
    "    print(\"Franklin County boundary not found in the database.\")\n",
    "    exit()\n",
    "    \n",
    "cities_within_franklin = cities_collection.find(\n",
    "    {\"geometry\": {\"$geoWithin\": {\"$geometry\": franklin_boundary[\"geometry\"]}}}\n",
    ")\n",
    "\n",
    "print(\"Cities within Franklin County:\")\n",
    "for city in cities_within_franklin:\n",
    "    print(city[\"properties\"][\"City\"])"
   ]
  },
  {
   "cell_type": "code",
   "execution_count": 6,
   "metadata": {},
   "outputs": [
    {
     "name": "stdout",
     "output_type": "stream",
     "text": [
      "Cities within Cuyahoga County:\n",
      "Parma\n",
      "Cleveland\n",
      "Lakewood\n"
     ]
    }
   ],
   "source": [
    "def cities_within_county(county_name):\n",
    "    boundary = boundaries_collection.find_one(\n",
    "        {\"properties.name\": county_name}\n",
    "    )\n",
    "    if not boundary:\n",
    "        print(f\"{county_name} boundary not found in the database.\")\n",
    "        return\n",
    "\n",
    "    cities = cities_collection.find(\n",
    "            {\"geometry\": {\"$geoWithin\": {\"$geometry\": boundary[\"geometry\"]}}}   \n",
    "        )\n",
    "\n",
    "    print(f\"Cities within {county_name}:\")\n",
    "    for city in cities:\n",
    "        print(city[\"properties\"][\"City\"])\n",
    "\n",
    "cities_within_county(\"Cuyahoga County\")"
   ]
  },
  {
   "cell_type": "code",
   "execution_count": null,
   "metadata": {},
   "outputs": [],
   "source": []
  }
 ],
 "metadata": {
  "language_info": {
   "name": "python"
  }
 },
 "nbformat": 4,
 "nbformat_minor": 2
}
