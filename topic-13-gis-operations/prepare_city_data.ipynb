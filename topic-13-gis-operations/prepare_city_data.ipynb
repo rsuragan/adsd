{
 "cells": [
  {
   "cell_type": "code",
   "execution_count": 1,
   "metadata": {},
   "outputs": [],
   "source": [
    "import csv, json"
   ]
  },
  {
   "cell_type": "code",
   "execution_count": 2,
   "metadata": {},
   "outputs": [
    {
     "name": "stdout",
     "output_type": "stream",
     "text": [
      "Data has been converted to JSON and saved to ohio-100-largest-cities.json\n"
     ]
    }
   ],
   "source": [
    "csv_file_path = \"ohio-100-largest-cities.csv\"\n",
    "json_file_path = \"ohio-100-largest-cities.json\"\n",
    "\n",
    "cities_data = []\n",
    "with open(csv_file_path, \"r\") as csv_file:\n",
    "    csv_reader = csv.DictReader(csv_file)\n",
    "    for row in csv_reader:\n",
    "        mhi = row[\"Median Household Income\"]\n",
    "        mhi = float(mhi.replace(\"$\",\"\").replace(\",\",\"\"))\n",
    "        row[\"Median Household Income\"] = mhi\n",
    "        ahp = row[\"Average Home Price\"]\n",
    "        ahp = float(ahp.replace(\"$\",\"\").replace(\",\",\"\"))\n",
    "        row[\"Average Home Price\"] = ahp\n",
    "        cities_data.append(row)\n",
    "\n",
    "cities_data[0:10]\n",
    "\n",
    "with open(json_file_path, \"w\") as json_file:\n",
    "    json.dump(cities_data, json_file, indent=4)\n",
    "\n",
    "print(f\"Data has been converted to JSON and saved to {json_file_path}\")"
   ]
  },
  {
   "cell_type": "code",
   "execution_count": 3,
   "metadata": {},
   "outputs": [
    {
     "name": "stdout",
     "output_type": "stream",
     "text": [
      "GeoJSON data has been saved to ohio-100-largest-cities.geojson\n"
     ]
    }
   ],
   "source": [
    "# Paths to the input JSON and output GeoJSON files\n",
    "input_json_file = \"ohio-100-largest-cities.json\"\n",
    "output_geojson_file = \"ohio-100-largest-cities.geojson\"\n",
    "\n",
    "# Read the input JSON file\n",
    "with open(input_json_file, \"r\") as json_file:\n",
    "    cities_data = json.load(json_file)\n",
    "\n",
    "# Create a GeoJSON template\n",
    "geojson_data = {\"type\": \"FeatureCollection\", \"features\": []}\n",
    "\n",
    "# Convert the JSON data into GeoJSON features\n",
    "for city in cities_data:\n",
    "    feature = {\n",
    "        \"type\": \"Feature\",\n",
    "        \"geometry\": {\n",
    "            \"type\": \"Point\",\n",
    "            \"coordinates\": [float(city[\"Longitude\"]), float(city[\"Latitude\"])],\n",
    "        },\n",
    "        \"properties\": {\n",
    "            \"City\": city[\"City\"],\n",
    "            \"Population\": int(city[\"Population\"]),\n",
    "            \"Median Household Income\": city[\"Median Household Income\"],\n",
    "            \"Average Home Price\": city[\"Average Home Price\"],\n",
    "        },\n",
    "    }\n",
    "    geojson_data[\"features\"].append(feature)\n",
    "\n",
    "# Save the GeoJSON data to a file\n",
    "with open(output_geojson_file, \"w\") as geojson_file:\n",
    "    json.dump(geojson_data, geojson_file, indent=4)\n",
    "\n",
    "print(f\"GeoJSON data has been saved to {output_geojson_file}\")"
   ]
  }
 ],
 "metadata": {
  "language_info": {
   "name": "python"
  }
 },
 "nbformat": 4,
 "nbformat_minor": 2
}
