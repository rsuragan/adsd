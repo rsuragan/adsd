{
 "cells": [
  {
   "cell_type": "code",
   "execution_count": 1,
   "metadata": {},
   "outputs": [],
   "source": [
    "# connect to the server\n",
    "\n",
    "from pprint import pprint\n",
    "import json\n",
    "\n",
    "from pymongo.mongo_client import MongoClient\n",
    "from pymongo.server_api import ServerApi"
   ]
  },
  {
   "cell_type": "code",
   "execution_count": 2,
   "metadata": {},
   "outputs": [
    {
     "name": "stdout",
     "output_type": "stream",
     "text": [
      "Pinged your deployment. You successfully connected to MongoDB!\n"
     ]
    }
   ],
   "source": [
    "with open(\"private.json\", \"r\") as f:\n",
    "    private = json.load(f)\n",
    "\n",
    "uri = private[\"MONGO_ATLAS_URI\"]\n",
    "\n",
    "# Create a new client and connect to the server\n",
    "client = MongoClient(uri, server_api=ServerApi(\"1\"))\n",
    "\n",
    "# Send a ping to confirm a successful connection\n",
    "try:\n",
    "    client.admin.command(\"ping\")\n",
    "    print(\"Pinged your deployment. You successfully connected to MongoDB!\")\n",
    "except Exception as e:\n",
    "    print(e)"
   ]
  },
  {
   "cell_type": "code",
   "execution_count": 4,
   "metadata": {},
   "outputs": [],
   "source": [
    "def read_county_data_file(filename):\n",
    "    with open(filename, \"r\") as f:\n",
    "        data = json.load(f)\n",
    "    assert type(data) is dict\n",
    "    assert data[\"type\"] == \"FeatureCollection\"\n",
    "    assert type(data[\"features\"]) is list\n",
    "    for feature in data[\"features\"]:\n",
    "        assert type(feature[\"properties\"][\"name\"]) is str\n",
    "        assert feature[\"geometry\"][\"type\"] == \"Polygon\"\n",
    "        assert type(feature[\"geometry\"][\"coordinates\"]) is list\n",
    "    return data\n",
    "\n",
    "\n",
    "data = read_county_data_file(\"Franklin_County_Boundary.geojson\")"
   ]
  },
  {
   "cell_type": "code",
   "execution_count": 6,
   "metadata": {},
   "outputs": [
    {
     "name": "stdout",
     "output_type": "stream",
     "text": [
      "Data from Franklin_County_Boundary.geojson has been inserted into the collection\n",
      "Data from Cuyahoga_County_Boundary.geojson has been inserted into the collection\n",
      "GeoJSON data has been inserted into the 'boundaries' collection.\n"
     ]
    }
   ],
   "source": [
    "ohio_db = client.ohio_db\n",
    "ohio_db.drop_collection(\"boundaries\")\n",
    "boundaries_collection = ohio_db.boundaries\n",
    "\n",
    "\n",
    "def load_county_data(filename, collection):\n",
    "    data = read_county_data_file(filename)\n",
    "    for feature in data[\"features\"]:\n",
    "        collection.insert_one(feature)\n",
    "    print(f\"Data from {filename} has been inserted into the collection\")\n",
    "\n",
    "\n",
    "load_county_data(\"Franklin_County_Boundary.geojson\", boundaries_collection)\n",
    "load_county_data(\"Cuyahoga_County_Boundary.geojson\", boundaries_collection)\n",
    "print(\"GeoJSON data has been inserted into the 'boundaries' collection.\")"
   ]
  },
  {
   "cell_type": "code",
   "execution_count": null,
   "metadata": {},
   "outputs": [],
   "source": []
  }
 ],
 "metadata": {
  "language_info": {
   "name": "python"
  }
 },
 "nbformat": 4,
 "nbformat_minor": 2
}
