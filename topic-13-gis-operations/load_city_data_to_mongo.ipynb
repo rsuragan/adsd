{
 "cells": [
  {
   "cell_type": "code",
   "execution_count": 1,
   "metadata": {},
   "outputs": [],
   "source": [
    "# connect to the server\n",
    "\n",
    "from pprint import pprint\n",
    "import json\n",
    "\n",
    "from pymongo.mongo_client import MongoClient\n",
    "from pymongo.server_api import ServerApi"
   ]
  },
  {
   "cell_type": "code",
   "execution_count": 2,
   "metadata": {},
   "outputs": [
    {
     "name": "stdout",
     "output_type": "stream",
     "text": [
      "Pinged your deployment. You successfully connected to MongoDB!\n"
     ]
    }
   ],
   "source": [
    "\n",
    "with open(\"private.json\", \"r\") as f:\n",
    "    private = json.load(f)\n",
    "\n",
    "uri = private[\"MONGO_ATLAS_URI\"]\n",
    "\n",
    "# Create a new client and connect to the server\n",
    "client = MongoClient(uri, server_api=ServerApi(\"1\"))\n",
    "\n",
    "# Send a ping to confirm a successful connection\n",
    "try:\n",
    "    client.admin.command(\"ping\")\n",
    "    print(\"Pinged your deployment. You successfully connected to MongoDB!\")\n",
    "except Exception as e:\n",
    "    print(e)"
   ]
  },
  {
   "cell_type": "code",
   "execution_count": 5,
   "metadata": {},
   "outputs": [
    {
     "name": "stdout",
     "output_type": "stream",
     "text": [
      "GeoJSON data has been inserted into the 'cities' collection.\n"
     ]
    }
   ],
   "source": [
    "ohio_db = client.ohio_db\n",
    "ohio_db.drop_collection(\"cities\")\n",
    "cities_collection = ohio_db.cities\n",
    "\n",
    "# Path to the GeoJSON file\n",
    "geojson_file_path = \"ohio-100-largest-cities.geojson\"\n",
    "\n",
    "# Load the GeoJSON file\n",
    "with open(geojson_file_path, \"r\") as geojson_file:\n",
    "    geojson_data = json.load(geojson_file)\n",
    "\n",
    "# Insert GeoJSON features into the MongoDB collection\n",
    "for feature in geojson_data[\"features\"]:\n",
    "    cities_collection.insert_one(feature)\n",
    "\n",
    "print(\"GeoJSON data has been inserted into the 'cities' collection.\")"
   ]
  }
 ],
 "metadata": {
  "language_info": {
   "name": "python"
  }
 },
 "nbformat": 4,
 "nbformat_minor": 2
}
